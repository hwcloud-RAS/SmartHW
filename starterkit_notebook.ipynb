{
 "cells": [
  {
   "cell_type": "markdown",
   "id": "076f825c-2fde-466e-a328-03d54c22950c",
   "metadata": {},
   "source": [
    "# Memory Failure Prediction Competition: Starter Kit\n",
    "\n",
    "## This notebook is designed as a starter kit for the memory failure prediction competition. It includes steps for data processing, feature extraction, and model training using XGBoost."
   ]
  },
  {
   "cell_type": "code",
   "execution_count": null,
   "id": "f82a1cc6",
   "metadata": {
    "pycharm": {
     "name": "#%%\n"
    }
   },
   "outputs": [],
   "source": [
    "# Install required packages\n",
    "!pip install xgboost"
   ]
  },
  {
   "cell_type": "code",
   "execution_count": 1,
   "id": "bb9afbe5",
   "metadata": {},
   "outputs": [],
   "source": [
    "# Import necessary libraries\n",
    "import pandas as pd\n",
    "import os\n",
    "import xgboost as xgb\n",
    "from sklearn.model_selection import train_test_split\n",
    "from tqdm import tqdm\n",
    "from sklearn.metrics import classification_report, confusion_matrix, accuracy_score\n",
    "import matplotlib.pyplot as plt"
   ]
  },
  {
   "cell_type": "code",
   "execution_count": 2,
   "id": "078fe482",
   "metadata": {},
   "outputs": [],
   "source": [
    "# Load ticket data\n",
    "ticket = pd.read_csv('./dataset/ticket.csv', index_col=0)"
   ]
  },
  {
   "cell_type": "code",
   "execution_count": 3,
   "id": "0e316406",
   "metadata": {
    "pycharm": {
     "name": "#%%\n"
    }
   },
   "outputs": [
    {
     "data": {
      "text/html": [
       "<div>\n",
       "<style scoped>\n",
       "    .dataframe tbody tr th:only-of-type {\n",
       "        vertical-align: middle;\n",
       "    }\n",
       "\n",
       "    .dataframe tbody tr th {\n",
       "        vertical-align: top;\n",
       "    }\n",
       "\n",
       "    .dataframe thead th {\n",
       "        text-align: right;\n",
       "    }\n",
       "</style>\n",
       "<table border=\"1\" class=\"dataframe\">\n",
       "  <thead>\n",
       "    <tr style=\"text-align: right;\">\n",
       "      <th></th>\n",
       "      <th>sn_name</th>\n",
       "      <th>alarm_time</th>\n",
       "      <th>sn_type</th>\n",
       "    </tr>\n",
       "  </thead>\n",
       "  <tbody>\n",
       "    <tr>\n",
       "      <th>0</th>\n",
       "      <td>sn_23046</td>\n",
       "      <td>1704077850</td>\n",
       "      <td>A</td>\n",
       "    </tr>\n",
       "    <tr>\n",
       "      <th>1</th>\n",
       "      <td>sn_6454</td>\n",
       "      <td>1704140121</td>\n",
       "      <td>A</td>\n",
       "    </tr>\n",
       "    <tr>\n",
       "      <th>2</th>\n",
       "      <td>sn_13905</td>\n",
       "      <td>1704159849</td>\n",
       "      <td>A</td>\n",
       "    </tr>\n",
       "    <tr>\n",
       "      <th>3</th>\n",
       "      <td>sn_36414</td>\n",
       "      <td>1704166698</td>\n",
       "      <td>A</td>\n",
       "    </tr>\n",
       "    <tr>\n",
       "      <th>4</th>\n",
       "      <td>sn_48018</td>\n",
       "      <td>1704167023</td>\n",
       "      <td>A</td>\n",
       "    </tr>\n",
       "  </tbody>\n",
       "</table>\n",
       "</div>"
      ],
      "text/plain": [
       "    sn_name  alarm_time sn_type\n",
       "0  sn_23046  1704077850       A\n",
       "1   sn_6454  1704140121       A\n",
       "2  sn_13905  1704159849       A\n",
       "3  sn_36414  1704166698       A\n",
       "4  sn_48018  1704167023       A"
      ]
     },
     "execution_count": 3,
     "metadata": {},
     "output_type": "execute_result"
    }
   ],
   "source": [
    "# Display the ticket data\n",
    "ticket.head()"
   ]
  },
  {
   "cell_type": "code",
   "execution_count": 4,
   "id": "33edf7bd",
   "metadata": {
    "pycharm": {
     "name": "#%%\n"
    }
   },
   "outputs": [],
   "source": [
    "# Load and process training data for Server Type A\n",
    "trainset_A_path = './dataset/server_type_A/'\n",
    "trainset_A = []\n",
    "\n",
    "for filename in os.listdir(trainset_A_path):\n",
    "    if filename.endswith('.csv'):\n",
    "        file_path = os.path.join(trainset_A_path, filename)\n",
    "        df = pd.read_csv(file_path, index_col=0)\n",
    "        df['sn'] = os.path.splitext(filename)[0]\n",
    "        trainset_A.append(df)\n",
    "\n",
    "trainset_A_df = pd.concat(trainset_A, ignore_index=True)"
   ]
  },
  {
   "cell_type": "code",
   "execution_count": 5,
   "id": "ed70366f",
   "metadata": {
    "collapsed": false,
    "jupyter": {
     "outputs_hidden": false
    },
    "pycharm": {
     "name": "#%%\n"
    }
   },
   "outputs": [],
   "source": [
    "# Label the data based on anomalies\n",
    "trainset_A_df['anomaly'] = 0\n",
    "trainset_A_df.loc[trainset_A_df['sn'].isin(ticket['sn_name']), 'anomaly'] = 1"
   ]
  },
  {
   "cell_type": "markdown",
   "id": "58ab9b68-6677-4d7e-b56b-f061318b2a5c",
   "metadata": {},
   "source": [
    "## Feature Engineering\n",
    "\n",
    "### Error Counts Features"
   ]
  },
  {
   "cell_type": "code",
   "execution_count": 8,
   "id": "08ba679d",
   "metadata": {
    "collapsed": false,
    "jupyter": {
     "outputs_hidden": false
    },
    "pycharm": {
     "name": "#%%\n"
    }
   },
   "outputs": [],
   "source": [
    "# Function to calculate error counts within specific time windows\n",
    "def calculate_counts_features(df):\n",
    "    df['LogTime'] = pd.to_datetime(df['LogTime'], unit='s')\n",
    "    df = df.sort_values('LogTime')\n",
    "    \n",
    "    df['error_count_CE.READ_120h'] = 0\n",
    "    df['error_count_CE.READ_24h'] = 0\n",
    "    df['error_count_CE.READ_1m'] = 0\n",
    "    df['error_count_CE.SCRUB_120h'] = 0\n",
    "    df['error_count_CE.SCRUB_24h'] = 0\n",
    "    df['error_count_CE.SCRUB_1m'] = 0\n",
    "    \n",
    "    for index, row in df.iterrows():\n",
    "        start_time_120h = row['LogTime'] - pd.Timedelta(hours=120)\n",
    "        start_time_24h = row['LogTime'] - pd.Timedelta(hours=24)\n",
    "        start_time_1m = row['LogTime'] - pd.Timedelta(minutes=1)\n",
    "        end_time = row['LogTime']\n",
    "        \n",
    "        mask_120h = (df['LogTime'] >= start_time_120h) & (df['LogTime'] <= end_time)\n",
    "        mask_24h = (df['LogTime'] >= start_time_24h) & (df['LogTime'] <= end_time)\n",
    "        mask_1m = (df['LogTime'] >= start_time_1m) & (df['LogTime'] <= end_time)\n",
    "        \n",
    "        recent_data_120h = df.loc[mask_120h]\n",
    "        recent_data_24h = df.loc[mask_24h]\n",
    "        recent_data_1m = df.loc[mask_1m]\n",
    "        \n",
    "        df.at[index, 'error_count_CE.READ_120h'] = recent_data_120h['error_type_full_name'].value_counts().get('CE.READ', 0)\n",
    "        df.at[index, 'error_count_CE.READ_24h'] = recent_data_24h['error_type_full_name'].value_counts().get('CE.READ', 0)\n",
    "        df.at[index, 'error_count_CE.READ_1m'] = recent_data_1m['error_type_full_name'].value_counts().get('CE.READ', 0)\n",
    "        df.at[index, 'error_count_CE.SCRUB_120h'] = recent_data_120h['error_type_full_name'].value_counts().get('CE.SCRUB', 0)\n",
    "        df.at[index, 'error_count_CE.SCRUB_24h'] = recent_data_24h['error_type_full_name'].value_counts().get('CE.SCRUB', 0)\n",
    "        df.at[index, 'error_count_CE.SCRUB_1m'] = recent_data_1m['error_type_full_name'].value_counts().get('CE.SCRUB', 0)\n",
    "        \n",
    "    return df\n",
    "\n",
    "processed_data_count = pd.concat([calculate_counts_features(group) for name, group in trainset_A_df.groupby('sn')])"
   ]
  },
  {
   "cell_type": "markdown",
   "id": "58ee70b2-6dd8-45e8-bec3-6c1c03724f02",
   "metadata": {},
   "source": [
    "### Fault Features"
   ]
  },
  {
   "cell_type": "code",
   "execution_count": 9,
   "id": "db31b842",
   "metadata": {
    "collapsed": false,
    "jupyter": {
     "outputs_hidden": false
    },
    "pycharm": {
     "name": "#%%\n"
    }
   },
   "outputs": [],
   "source": [
    "# Function to calculate fault features based on memory cell locations\n",
    "def calculate_faults_features(df):\n",
    "    df['LogTime'] = pd.to_datetime(df['LogTime'], unit='s')\n",
    "    df['address'] = df['CpuId'].astype(str) + '-' + df['ChannelId'].astype(str) + '-' + df['RankId'].astype(str) + '-' + \\\n",
    "                    df['deviceID'].astype(str) + '-' + df['BankgroupId'].astype(str) + '-' + df['BankId'].astype(str) + '-' + \\\n",
    "                    df['ColumnId'].astype(str) + '-' + df['RowId'].astype(str)\n",
    "    df['bank_column_key'] = df['CpuId'].astype(str) + '-' + df['ChannelId'].astype(str) + '-' + df['RankId'].astype(str) + '-' + \\\n",
    "                            df['deviceID'].astype(str) + '-' + df['BankgroupId'].astype(str) + '-' + df['BankId'].astype(str) + '-' + df['ColumnId'].astype(str)\n",
    "    df['bank_row_key'] = df['CpuId'].astype(str) + '-' + df['ChannelId'].astype(str) + '-' + df['RankId'].astype(str) + '-' + \\\n",
    "                         df['deviceID'].astype(str) + '-' + df['BankgroupId'].astype(str) + '-' + df['BankId'].astype(str) + '-' + df['RowId'].astype(str)\n",
    "    df['bank_key'] = df['CpuId'].astype(str) + '-' + df['ChannelId'].astype(str) + '-' + df['RankId'].astype(str) + '-' + \\\n",
    "                     df['deviceID'].astype(str) + '-' + df['BankgroupId'].astype(str) + '-' + df['BankId'].astype(str)\n",
    "    \n",
    "    df = df.sort_values('LogTime')\n",
    "    df['cell_fault'] = 0\n",
    "    df['column_fault'] = 0\n",
    "    df['row_fault'] = 0\n",
    "    df['bank_fault'] = 0\n",
    "    \n",
    "    for index, row in df.iterrows():\n",
    "        faulty_banks = set()\n",
    "        start_time = row['LogTime'] - pd.Timedelta(hours=120)\n",
    "        end_time = row['LogTime']\n",
    "        \n",
    "        mask = (df['LogTime'] >= start_time) & (df['LogTime'] <= end_time)\n",
    "        recent_data = df.loc[mask]\n",
    "        \n",
    "        address_counts = recent_data['address'].value_counts()\n",
    "        df.at[index, 'cell_fault'] = len(address_counts[address_counts > 1])\n",
    "        \n",
    "        rowid_groups = recent_data.groupby('bank_column_key')['RowId'].nunique()\n",
    "        df.at[index, 'column_fault'] = len(rowid_groups[rowid_groups > 1])\n",
    "        \n",
    "        columnid_groups = recent_data.groupby('bank_row_key')['ColumnId'].nunique()\n",
    "        df.at[index, 'row_fault'] = len(columnid_groups[columnid_groups > 1])\n",
    "        \n",
    "        bank_groups = recent_data.groupby('bank_key')\n",
    "        for bank_key, group in bank_groups:\n",
    "            same_bank_rowid_groups = group.groupby('bank_column_key')['RowId'].nunique()\n",
    "            same_bank_columnid_groups = group.groupby('bank_row_key')['ColumnId'].nunique()\n",
    "            \n",
    "            if len(same_bank_columnid_groups[same_bank_columnid_groups > 1]) > 1 and len(same_bank_rowid_groups[same_bank_rowid_groups > 1]) > 1:\n",
    "                faulty_banks.add(bank_key)\n",
    "        \n",
    "        df.at[index, 'bank_fault'] = len(faulty_banks)\n",
    "    return df\n",
    "\n",
    "processed_data = pd.concat([calculate_faults_features(group) for name, group in trainset_A_df.groupby('sn')])"
   ]
  },
  {
   "cell_type": "markdown",
   "id": "85bbc963",
   "metadata": {},
   "source": [
    "### Bit-Level Features"
   ]
  },
  {
   "cell_type": "code",
   "execution_count": 10,
   "id": "a3068d74",
   "metadata": {
    "collapsed": false,
    "jupyter": {
     "outputs_hidden": false
    },
    "pycharm": {
     "name": "#%%\n"
    }
   },
   "outputs": [],
   "source": [
    "# Function to extract bit-level information from a bit mask\n",
    "def _extract_beat_info(bit_mask: int):\n",
    "    DQ_MAP = {'0': [], '1': [0], '2': [1], '3': [0, 1], '4': [2], '5': [0, 2], '6': [1, 2], '7': [0, 1, 2], '8': [3],\n",
    "              '9': [0, 3], 'a': [1, 3], 'b': [0, 1, 3], 'c': [2, 3], 'd': [0, 2, 3], 'e': [1, 2, 3], 'f': [0, 1, 2, 3]}\n",
    "    DEVICE_BURST = 8\n",
    "    beat_info = {}\n",
    "    X4_BIT_WIDTH = 4\n",
    "    beat_info_tmp = format(int(bit_mask), \"0%dx\" % DEVICE_BURST)\n",
    "\n",
    "    for beat in range(DEVICE_BURST):\n",
    "        beat_info[str(beat)] = [beat_position for beat_position in DQ_MAP.get(beat_info_tmp[-(beat + 1)])]\n",
    "    return beat_info\n",
    "\n",
    "# Apply bit-level feature extraction\n",
    "trainset_A_df[\"beat_info\"] = trainset_A_df[\"RetryRdErrLogParity\"].apply(_extract_beat_info)\n",
    "trainset_A_df[\"total_err_bits\"] = trainset_A_df[\"beat_info\"].apply(lambda x: sum(len(b) for b in x.values()))"
   ]
  },
  {
   "cell_type": "code",
   "execution_count": 11,
   "id": "e4fe7b51",
   "metadata": {
    "collapsed": false,
    "jupyter": {
     "outputs_hidden": false
    },
    "pycharm": {
     "name": "#%%\n"
    }
   },
   "outputs": [],
   "source": [
    "# Function to calculate the maximum error beat interval\n",
    "def _max_err_beat_interval(beat_info):\n",
    "    err_beat = [int(k) for k, b in beat_info.items() if len(b) > 0]\n",
    "    if err_beat:\n",
    "        return err_beat[-1] - err_beat[0]\n",
    "    return 0\n",
    "\n",
    "trainset_A_df[\"Max_err_beat_interval\"] = trainset_A_df[\"beat_info\"].apply(_max_err_beat_interval)"
   ]
  },
  {
   "cell_type": "code",
   "execution_count": 12,
   "id": "bedfabee",
   "metadata": {
    "collapsed": false,
    "jupyter": {
     "outputs_hidden": false
    },
    "pycharm": {
     "name": "#%%\n"
    }
   },
   "outputs": [],
   "source": [
    "# Function to count the number of unique DQ errors\n",
    "def err_dq_count(beat_info):\n",
    "    unique_err_dq = set()\n",
    "    for b in beat_info.values():\n",
    "        unique_err_dq.update(b)\n",
    "    return len(unique_err_dq)\n",
    "\n",
    "trainset_A_df[\"err_dq_count\"] = trainset_A_df[\"beat_info\"].apply(err_dq_count)"
   ]
  },
  {
   "cell_type": "markdown",
   "id": "f51866bd-ac90-4734-bcfb-81af83dfd190",
   "metadata": {},
   "source": [
    "### Combine Features for Modeling"
   ]
  },
  {
   "cell_type": "code",
   "execution_count": 13,
   "id": "58750764",
   "metadata": {
    "collapsed": false,
    "jupyter": {
     "outputs_hidden": false
    },
    "pycharm": {
     "name": "#%%\n"
    }
   },
   "outputs": [],
   "source": [
    "# Combine extracted features\n",
    "extract_bit_features = trainset_A_df[[\"total_err_bits\", 'err_dq_count', \"Max_err_beat_interval\"]]\n",
    "extract_fault_features = processed_data[['cell_fault', 'row_fault', 'column_fault', 'bank_fault']]\n",
    "extract_count_features = processed_data_count[['error_count_CE.READ_120h', 'error_count_CE.READ_24h', 'error_count_CE.READ_1m',\n",
    "                                               'error_count_CE.SCRUB_120h', 'error_count_CE.SCRUB_24h', 'error_count_CE.SCRUB_1m']]\n",
    "\n",
    "features = pd.concat([extract_count_features, extract_fault_features, extract_bit_features], axis=1)"
   ]
  },
  {
   "cell_type": "code",
   "execution_count": 14,
   "id": "ec94355e",
   "metadata": {
    "collapsed": false,
    "jupyter": {
     "outputs_hidden": false
    },
    "pycharm": {
     "name": "#%%\n"
    }
   },
   "outputs": [],
   "source": [
    "# Define feature matrix (X) and target vector (y)\n",
    "X = features\n",
    "y = trainset_A_df['anomaly']"
   ]
  },
  {
   "cell_type": "code",
   "execution_count": 15,
   "id": "b27bcf81",
   "metadata": {
    "collapsed": false,
    "jupyter": {
     "outputs_hidden": false
    },
    "pycharm": {
     "name": "#%%\n"
    }
   },
   "outputs": [],
   "source": [
    "# Split the data into training and test sets\n",
    "X_train, X_test, y_train, y_test = train_test_split(X, y, test_size=0.1, random_state=42)"
   ]
  },
  {
   "cell_type": "markdown",
   "id": "ded2243a-ed17-44de-b819-a68880100fe8",
   "metadata": {},
   "source": [
    "### Model Training with XGBoost"
   ]
  },
  {
   "cell_type": "code",
   "execution_count": 16,
   "id": "2d3cd4b5",
   "metadata": {
    "collapsed": false,
    "jupyter": {
     "outputs_hidden": false
    },
    "pycharm": {
     "name": "#%%\n"
    }
   },
   "outputs": [
    {
     "name": "stderr",
     "output_type": "stream",
     "text": [
      "XGBoost Training Progress:   0%|          | 0/100 [00:00<?, ?it/s]"
     ]
    },
    {
     "name": "stdout",
     "output_type": "stream",
     "text": [
      "[0]\ttest-logloss:0.46228\n",
      "[1]\ttest-logloss:0.35124\n",
      "[2]\ttest-logloss:0.27401\n",
      "[3]\ttest-logloss:0.22483\n",
      "[4]\ttest-logloss:0.19318\n",
      "[5]\ttest-logloss:0.17979\n",
      "[6]\ttest-logloss:0.16760\n",
      "[7]\ttest-logloss:0.15634\n",
      "[8]\ttest-logloss:0.14947\n",
      "[9]\ttest-logloss:0.14566\n",
      "[10]\ttest-logloss:0.13175\n",
      "[11]\ttest-logloss:0.13125\n",
      "[12]\ttest-logloss:0.12433\n",
      "[13]\ttest-logloss:0.12685\n",
      "[14]\ttest-logloss:0.12800\n",
      "[15]\ttest-logloss:0.12871\n",
      "[16]\ttest-logloss:0.12939\n",
      "[17]\ttest-logloss:0.13255\n",
      "[18]\ttest-logloss:0.13589\n",
      "[19]\ttest-logloss:0.13922\n",
      "[20]\ttest-logloss:0.14265\n",
      "[21]\ttest-logloss:0.14389\n",
      "[22]\ttest-logloss:0.14610\n",
      "[23]\ttest-logloss:0.14721\n",
      "[24]\ttest-logloss:0.14910\n",
      "[25]\ttest-logloss:0.14990\n",
      "[26]\ttest-logloss:0.15155\n",
      "[27]\ttest-logloss:0.15235\n",
      "[28]\ttest-logloss:0.15383\n",
      "[29]\ttest-logloss:0.15444\n",
      "[30]\ttest-logloss:0.15580\n",
      "[31]\ttest-logloss:0.15644\n",
      "[32]\ttest-logloss:0.15770\n",
      "[33]\ttest-logloss:0.15822\n",
      "[34]\ttest-logloss:0.15940\n",
      "[35]\ttest-logloss:0.15989\n",
      "[36]\ttest-logloss:0.16101\n",
      "[37]\ttest-logloss:0.16155\n",
      "[38]\ttest-logloss:0.16262\n",
      "[39]\ttest-logloss:0.16308\n",
      "[40]\ttest-logloss:0.16410\n",
      "[41]\ttest-logloss:0.16455\n",
      "[42]\ttest-logloss:0.16320\n",
      "[43]\ttest-logloss:0.16374\n"
     ]
    },
    {
     "name": "stderr",
     "output_type": "stream",
     "text": [
      "XGBoost Training Progress:  45%|████▌     | 45/100 [00:00<00:00, 441.59it/s]"
     ]
    },
    {
     "name": "stdout",
     "output_type": "stream",
     "text": [
      "[44]\ttest-logloss:0.16477\n",
      "[45]\ttest-logloss:0.16523\n",
      "[46]\ttest-logloss:0.16435\n",
      "[47]\ttest-logloss:0.16485\n",
      "[48]\ttest-logloss:0.16587\n",
      "[49]\ttest-logloss:0.16636\n",
      "[50]\ttest-logloss:0.16548\n",
      "[51]\ttest-logloss:0.16430\n",
      "[52]\ttest-logloss:0.16483\n",
      "[53]\ttest-logloss:0.16405\n",
      "[54]\ttest-logloss:0.16461\n",
      "[55]\ttest-logloss:0.16348\n",
      "[56]\ttest-logloss:0.16403\n",
      "[57]\ttest-logloss:0.16324\n",
      "[58]\ttest-logloss:0.16377\n",
      "[59]\ttest-logloss:0.16301\n",
      "[60]\ttest-logloss:0.16348\n",
      "[61]\ttest-logloss:0.16238\n",
      "[62]\ttest-logloss:0.16289\n",
      "[63]\ttest-logloss:0.16214\n",
      "[64]\ttest-logloss:0.16264\n",
      "[65]\ttest-logloss:0.16191\n",
      "[66]\ttest-logloss:0.16240\n",
      "[67]\ttest-logloss:0.16134\n",
      "[68]\ttest-logloss:0.16179\n",
      "[69]\ttest-logloss:0.16108\n",
      "[70]\ttest-logloss:0.16155\n",
      "[71]\ttest-logloss:0.16057\n",
      "[72]\ttest-logloss:0.15994\n",
      "[73]\ttest-logloss:0.16047\n",
      "[74]\ttest-logloss:0.15984\n",
      "[75]\ttest-logloss:0.16035\n",
      "[76]\ttest-logloss:0.15946\n",
      "[77]\ttest-logloss:0.15992\n",
      "[78]\ttest-logloss:0.15928\n",
      "[79]\ttest-logloss:0.15975\n",
      "[80]\ttest-logloss:0.15913\n",
      "[81]\ttest-logloss:0.15959\n",
      "[82]\ttest-logloss:0.15871\n",
      "[83]\ttest-logloss:0.15916\n",
      "[84]\ttest-logloss:0.15854\n",
      "[85]\ttest-logloss:0.15897\n",
      "[86]\ttest-logloss:0.15837\n",
      "[87]\ttest-logloss:0.15877\n",
      "[88]\ttest-logloss:0.15793\n",
      "[89]\ttest-logloss:0.15835\n"
     ]
    },
    {
     "name": "stderr",
     "output_type": "stream",
     "text": [
      "XGBoost Training Progress:  91%|█████████ | 91/100 [00:00<00:00, 446.88it/s]"
     ]
    },
    {
     "name": "stdout",
     "output_type": "stream",
     "text": [
      "[90]\ttest-logloss:0.15776\n",
      "[91]\ttest-logloss:0.15817\n",
      "[92]\ttest-logloss:0.15738\n",
      "[93]\ttest-logloss:0.15686\n",
      "[94]\ttest-logloss:0.15732\n",
      "[95]\ttest-logloss:0.15680\n",
      "[96]\ttest-logloss:0.15724\n",
      "[97]\ttest-logloss:0.15653\n",
      "[98]\ttest-logloss:0.15693\n"
     ]
    },
    {
     "name": "stderr",
     "output_type": "stream",
     "text": [
      "XGBoost Training Progress: 100%|██████████| 100/100 [00:00<00:00, 442.64it/s]"
     ]
    },
    {
     "name": "stdout",
     "output_type": "stream",
     "text": [
      "[99]\ttest-logloss:0.15640\n"
     ]
    },
    {
     "name": "stderr",
     "output_type": "stream",
     "text": [
      "\n"
     ]
    }
   ],
   "source": [
    "# Prepare data for XGBoost\n",
    "dtrain_xgb = xgb.DMatrix(X_train, label=y_train, enable_categorical=True)\n",
    "dtest_xgb = xgb.DMatrix(X_test, label=y_test, enable_categorical=True)\n",
    "\n",
    "# XGBoost model parameters\n",
    "params_xgb = {\n",
    "    'objective': 'binary:logistic',\n",
    "    'tree_method': 'hist',\n",
    "    'eval_metric': 'logloss',\n",
    "    'random_state': 42\n",
    "}\n",
    "\n",
    "# Custom callback for progress bar\n",
    "class XGBoostProgressCallback(xgb.callback.TrainingCallback):\n",
    "    def __init__(self, total):\n",
    "        self.pbar = tqdm(total=total, desc=\"XGBoost Training Progress\")\n",
    "\n",
    "    def after_iteration(self, model, epoch, evals_log):\n",
    "        self.pbar.update(1)\n",
    "        if epoch + 1 == self.pbar.total:\n",
    "            self.pbar.close()\n",
    "        return False\n",
    "\n",
    "# Train the model with progress bar\n",
    "num_boost_round = 100\n",
    "evals_result_xgb = {}\n",
    "bst_xgb = xgb.train(params_xgb, dtrain_xgb, num_boost_round=num_boost_round, evals=[(dtest_xgb, 'test')],\n",
    "                    evals_result=evals_result_xgb, callbacks=[XGBoostProgressCallback(num_boost_round)])"
   ]
  },
  {
   "cell_type": "code",
   "execution_count": 17,
   "id": "d3ed27f6",
   "metadata": {
    "collapsed": false,
    "jupyter": {
     "outputs_hidden": false
    },
    "pycharm": {
     "name": "#%%\n"
    }
   },
   "outputs": [
    {
     "name": "stdout",
     "output_type": "stream",
     "text": [
      "XGBoost Accuracy: 0.96875\n",
      "XGBoost Confusion Matrix:\n",
      "[[10  1]\n",
      " [ 0 21]]\n",
      "XGBoost Classification Report:\n",
      "              precision    recall  f1-score   support\n",
      "\n",
      "           0       1.00      0.91      0.95        11\n",
      "           1       0.95      1.00      0.98        21\n",
      "\n",
      "    accuracy                           0.97        32\n",
      "   macro avg       0.98      0.95      0.96        32\n",
      "weighted avg       0.97      0.97      0.97        32\n",
      "\n"
     ]
    }
   ],
   "source": [
    "# Model evaluation\n",
    "y_pred_xgb = bst_xgb.predict(dtest_xgb)\n",
    "y_pred_xgb_binary = [1 if y > 0.5 else 0 for y in y_pred_xgb]\n",
    "\n",
    "accuracy_xgb = accuracy_score(y_test, y_pred_xgb_binary)\n",
    "conf_matrix_xgb = confusion_matrix(y_test, y_pred_xgb_binary)\n",
    "class_report_xgb = classification_report(y_test, y_pred_xgb_binary)\n",
    "\n",
    "print(\"XGBoost Accuracy:\", accuracy_xgb)\n",
    "print(\"XGBoost Confusion Matrix:\")\n",
    "print(conf_matrix_xgb)\n",
    "print(\"XGBoost Classification Report:\")\n",
    "print(class_report_xgb)"
   ]
  },
  {
   "cell_type": "code",
   "execution_count": 18,
   "id": "969cc63f",
   "metadata": {
    "collapsed": false,
    "jupyter": {
     "outputs_hidden": false
    },
    "pycharm": {
     "name": "#%%\n"
    }
   },
   "outputs": [
    {
     "data": {
      "image/png": "[encoded data removed]",
      "text/plain": [
       "<Figure size 640x480 with 1 Axes>"
      ]
     },
     "metadata": {},
     "output_type": "display_data"
    }
   ],
   "source": [
    "# Plot feature importances for XGBoost\n",
    "xgb.plot_importance(bst_xgb)\n",
    "plt.show()"
   ]
  }
 ],
 "metadata": {
  "kernelspec": {
   "display_name": "python-3.7.10",
   "language": "python",
   "name": "python-3.7.10"
  },
  "language_info": {
   "codemirror_mode": {
    "name": "ipython",
    "version": 3
   },
   "file_extension": ".py",
   "mimetype": "text/x-python",
   "name": "python",
   "nbconvert_exporter": "python",
   "pygments_lexer": "ipython3",
   "version": "3.7.10"
  }
 },
 "nbformat": 4,
 "nbformat_minor": 5
}
